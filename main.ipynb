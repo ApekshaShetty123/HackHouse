{
 "cells": [
  {
   "cell_type": "code",
   "execution_count": 2,
   "metadata": {},
   "outputs": [
    {
     "name": "stderr",
     "output_type": "stream",
     "text": [
      "C:\\Users\\Apeksha\\AppData\\Local\\Temp\\ipykernel_15644\\3327990455.py:2: DtypeWarning: Columns (19,20) have mixed types. Specify dtype option on import or set low_memory=False.\n",
      "  data = pd.read_csv('Copy of FIR_Details_Data.csv')\n"
     ]
    }
   ],
   "source": [
    "import pandas as pd\n",
    "data = pd.read_csv('Copy of FIR_Details_Data.csv')\n"
   ]
  },
  {
   "cell_type": "code",
   "execution_count": 4,
   "metadata": {},
   "outputs": [
    {
     "data": {
      "text/plain": [
       "array(['Amengad PS', 'Badami PS', 'Bagalkot CEN Crime PS',\n",
       "       'Bagalkot Rural PS', 'Bagalkot Town PS', 'Bagalkot Traffic PS',\n",
       "       'Bagalkot Women PS', 'Banahatti PS', 'Bilagi PS', 'Guledagudda PS',\n",
       "       'Hungunda PS', 'Ilakal PS', 'Ilakal Rural PS',\n",
       "       'Jamakhandi Rural PS', 'Jamakhandi Town PS', 'Kaladagi PS',\n",
       "       'Kerur PS', 'Lokapur PS', 'Mahalingapur PS', 'Mudhol PS',\n",
       "       'Navanagara PS', 'Savalgi PS', 'Teradal PS'], dtype=object)"
      ]
     },
     "execution_count": 4,
     "metadata": {},
     "output_type": "execute_result"
    }
   ],
   "source": [
    "x = data[data['District_Name']==\"Bagalkot\"].copy()\n",
    "x[\"UnitName\"].unique()"
   ]
  }
 ],
 "metadata": {
  "kernelspec": {
   "display_name": "base",
   "language": "python",
   "name": "python3"
  },
  "language_info": {
   "codemirror_mode": {
    "name": "ipython",
    "version": 3
   },
   "file_extension": ".py",
   "mimetype": "text/x-python",
   "name": "python",
   "nbconvert_exporter": "python",
   "pygments_lexer": "ipython3",
   "version": "3.11.4"
  }
 },
 "nbformat": 4,
 "nbformat_minor": 2
}
